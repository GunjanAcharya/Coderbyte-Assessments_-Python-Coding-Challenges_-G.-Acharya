{
 "cells": [
  {
   "cell_type": "markdown",
   "id": "ed0d0808",
   "metadata": {},
   "source": [
    "### Q-1: Letter Capitalize:\n",
    "\n",
    "Have the function LetterCapitalize(str) take the str parameter being passed and capitalize the first letter of each word. Words will be separated by only one space."
   ]
  },
  {
   "cell_type": "code",
   "execution_count": 4,
   "id": "2c53c30e",
   "metadata": {},
   "outputs": [],
   "source": [
    "def LetterCapitalize(strParam):\n",
    "    \n",
    "    opt=''\n",
    "    strParam=strParam.split(' ')\n",
    "    for i in strParam:\n",
    "        opt+=i.capitalize()\n",
    "        opt+=' '\n",
    "\n",
    "    return opt[0:len(opt)-1]"
   ]
  },
  {
   "cell_type": "code",
   "execution_count": 5,
   "id": "b52b0a1c",
   "metadata": {},
   "outputs": [
    {
     "data": {
      "text/plain": [
       "'Hello World'"
      ]
     },
     "execution_count": 5,
     "metadata": {},
     "output_type": "execute_result"
    }
   ],
   "source": [
    "LetterCapitalize(\"hello world\")"
   ]
  },
  {
   "cell_type": "markdown",
   "id": "5f912720",
   "metadata": {},
   "source": [
    "### Q-2: Time Convert:\n",
    "\n",
    "Have the function TimeConvert(num) take the num parameter being passed and return the number of hours and minutes the parameter converts to (ie. if num = 63 then the output should be 1:3). Separate the number of hours and minutes with a colon."
   ]
  },
  {
   "cell_type": "code",
   "execution_count": 7,
   "id": "abc1111d",
   "metadata": {},
   "outputs": [],
   "source": [
    "def TimeConvert(num):\n",
    "    \n",
    "    if num<60:\n",
    "        return '0:'+str(num)\n",
    "    else:\n",
    "        hr=num//60\n",
    "        min=num%60\n",
    "    return str(hr)+':'+str(min)"
   ]
  },
  {
   "cell_type": "code",
   "execution_count": 8,
   "id": "e70458a3",
   "metadata": {},
   "outputs": [
    {
     "data": {
      "text/plain": [
       "'1:3'"
      ]
     },
     "execution_count": 8,
     "metadata": {},
     "output_type": "execute_result"
    }
   ],
   "source": [
    "TimeConvert(63)"
   ]
  },
  {
   "cell_type": "markdown",
   "id": "e533dc8d",
   "metadata": {},
   "source": [
    "### Q-3: Palindrome:\n",
    "\n",
    "Have the function Palindrome(str) take the str parameter being passed and return the string true if the parameter is a palindrome, (the string is the same forward as it is backward) otherwise return the string false. For example: \"racecar\" is also \"racecar\" backwards. Punctuation and numbers will not be part of the string."
   ]
  },
  {
   "cell_type": "code",
   "execution_count": 11,
   "id": "87b135e2",
   "metadata": {},
   "outputs": [],
   "source": [
    "def Palindrome(strParam):\n",
    "    \n",
    "    strParam=strParam.replace(' ','')\n",
    "\n",
    "    if strParam[0:len(strParam)]==strParam[-1:-len(strParam)-1:-1]:\n",
    "        return 'true'\n",
    "    else:\n",
    "        return 'false'"
   ]
  },
  {
   "cell_type": "code",
   "execution_count": 12,
   "id": "41150763",
   "metadata": {},
   "outputs": [
    {
     "data": {
      "text/plain": [
       "'true'"
      ]
     },
     "execution_count": 12,
     "metadata": {},
     "output_type": "execute_result"
    }
   ],
   "source": [
    "Palindrome(\"racecar\")"
   ]
  },
  {
   "cell_type": "markdown",
   "id": "ca4bb8a3",
   "metadata": {},
   "source": [
    "### Q-4: Additive Persistence:\n",
    "\n",
    "Have the function AdditivePersistence(num) take the num parameter being passed which will always be a positive integer and return its additive persistence which is the number of times you must add the digits in num until you reach a single digit. For example: if num is 2718 then your program should return 2 because 2 + 7 + 1 + 8 = 18 and 1 + 8 = 9 and you stop at 9."
   ]
  },
  {
   "cell_type": "code",
   "execution_count": 13,
   "id": "ed2c5cdd",
   "metadata": {},
   "outputs": [],
   "source": [
    "def AdditivePersistence(num):\n",
    "    steps=0\n",
    "    while num>9:\n",
    "        snum=str(num)\n",
    "        sd=list(snum)\n",
    "        d=[int(x) for x in sd]\n",
    "        num=sum(d)\n",
    "        steps=steps+1\n",
    "    return steps"
   ]
  },
  {
   "cell_type": "code",
   "execution_count": 14,
   "id": "4da9f597",
   "metadata": {},
   "outputs": [
    {
     "data": {
      "text/plain": [
       "2"
      ]
     },
     "execution_count": 14,
     "metadata": {},
     "output_type": "execute_result"
    }
   ],
   "source": [
    "AdditivePersistence(2718)"
   ]
  },
  {
   "cell_type": "markdown",
   "id": "234a7be1",
   "metadata": {},
   "source": [
    "### Q-5: Vowel Square:\n",
    "\n",
    "Have the function VowelSquare(strArr) take the strArr parameter being passed which will be a 2D matrix of some arbitrary size filled with letters from the alphabet, and determine if a 2x2 square composed entirely of vowels exists in the matrix. For example: strArr is [\"abcd\", \"eikr\", \"oufj\"] then this matrix looks like the following:\n",
    "\n",
    "a b c d\n",
    "e i k r\n",
    "o u f j\n",
    "\n",
    "Within this matrix there is a 2x2 square of vowels starting in the second row and first column, namely, ei, ou. If a 2x2 square of vowels is found your program should return the top-left position (row-column) of the square, so for this example your program should return 1-0. If no 2x2 square of vowels exists, then return the string not found. If there are multiple squares of vowels, return the one that is at the most top-left position in the whole matrix. The input matrix will at least be of size 2x2."
   ]
  },
  {
   "cell_type": "code",
   "execution_count": 15,
   "id": "cc1be443",
   "metadata": {},
   "outputs": [],
   "source": [
    "def VowelSquare(strArr):\n",
    "\n",
    "    l=list([x for x in s] for s in strArr)\n",
    "    row=len(strArr)\n",
    "    col=len(strArr[0])\n",
    "    for i in range(0,row-1):\n",
    "        for j in range(0,col-1):\n",
    "            if l[i][j] in 'aeiou' and l[i][j+1] in 'aeiou' and l[i+1][j] in 'aeiou' and l[i+1][j+1] in 'aeiou':\n",
    "                return str(i)+'-'+str(j)\n",
    "    return 'not found'"
   ]
  },
  {
   "cell_type": "code",
   "execution_count": 16,
   "id": "63f7de81",
   "metadata": {},
   "outputs": [
    {
     "data": {
      "text/plain": [
       "'1-0'"
      ]
     },
     "execution_count": 16,
     "metadata": {},
     "output_type": "execute_result"
    }
   ],
   "source": [
    "VowelSquare([\"abcd\", \"eikr\", \"oufj\"])"
   ]
  },
  {
   "cell_type": "markdown",
   "id": "3850150e",
   "metadata": {},
   "source": [
    "### Q-6: Camel Case:\n",
    "\n",
    "Have the function CamelCase(str) take the str parameter being passed and return it in proper camel case format where the first letter of each word is capitalized (excluding the first letter). The string will only contain letters and some combination of delimiter punctuation characters separating each word.\n",
    "\n",
    "For example: if str is \"BOB loves-coding\" then your program should return the string bobLovesCoding."
   ]
  },
  {
   "cell_type": "markdown",
   "id": "62215ea7",
   "metadata": {},
   "source": [
    "1. For input \"BOB loves-coding\" the output was incorrect. The correct output is bobLovesCoding\n",
    "\n",
    "2. For input \"cats AND*Dogs-are Awesome\" the output was incorrect. The correct output is catsAndDogsAreAwesome\n",
    "\n",
    "3. For input \"a b c d-e-f%g\" the output was incorrect. The correct output is aBCDEFG\n",
    "\n",
    "4. For input \"apples and oranges\" the output was incorrect. The correct output is applesAndOranges\n",
    "\n",
    "5. For input \"javaSCRIPT is The-BEST\" the output was incorrect. The correct output is javascriptIsTheBest\n",
    "\n",
    "6. For input \"abcdef abcdef\" the output was incorrect. The correct output is abcdefAbcdef\n",
    "\n",
    "7. For input \"a-b-paper-house\" the output was incorrect. The correct output is aBPaperHouse\n",
    "\n",
    "8. For input \"ginger-brea d mAN\" the output was incorrect. The correct output is gingerBreaDMan"
   ]
  },
  {
   "cell_type": "code",
   "execution_count": 25,
   "id": "52c81312",
   "metadata": {},
   "outputs": [],
   "source": [
    "def CamelCase(str):\n",
    "    import string as st\n",
    "    for i in str:\n",
    "        if i in st.punctuation:\n",
    "            str=str.replace(i,' ')\n",
    "\n",
    "    str=str.split(' ')\n",
    "    opt=str[0].lower()\n",
    "    for i in str[1:len(str)]:\n",
    "        for j in i:\n",
    "            if j==i[0]:\n",
    "                opt+=j.upper()\n",
    "            else:\n",
    "                opt+=j.lower()\n",
    "            \n",
    "    return opt"
   ]
  },
  {
   "cell_type": "code",
   "execution_count": 26,
   "id": "f650b2d4",
   "metadata": {},
   "outputs": [
    {
     "name": "stdout",
     "output_type": "stream",
     "text": [
      "bobLovesCoding\n",
      "catsAndDogsAreAwesome\n",
      "aBCDEFG\n",
      "applesAndOranges\n",
      "javascriptIsTheBest\n",
      "abcdefAbcdef\n",
      "aBPaPerHouse\n",
      "gingerBreaDMan\n"
     ]
    }
   ],
   "source": [
    "for i in [\"BOB loves-coding\",\"cats AND*Dogs-are Awesome\",\"a b c d-e-f%g\",\"apples and oranges\",\n",
    "         \"javaSCRIPT is The-BEST\",\"abcdef abcdef\",\"a-b-paper-house\",\"ginger-brea d mAN\"]:\n",
    "    \n",
    "    print(CamelCase(i))"
   ]
  },
  {
   "cell_type": "markdown",
   "id": "c200e1c8",
   "metadata": {},
   "source": [
    "### Q-7: One Decremented:\n",
    "\n",
    "Have the function OneDecremented(str) count how many times a digit appears that is exactly one less than the previous digit. For example: if str is \"5655984\" then your program should return 2 because 5 appears directly after 6 and 8 appears directly after 9. The input will always contain at least 1 digit."
   ]
  },
  {
   "cell_type": "code",
   "execution_count": 17,
   "id": "703565ef",
   "metadata": {},
   "outputs": [],
   "source": [
    "def OneDecremented(strParam):\n",
    "    c=0\n",
    "\n",
    "\n",
    "    for i in range(len(strParam)-1):\n",
    "        if int(strParam[i+1])-int(strParam[i])==-1:\n",
    "            c+=1\n",
    "    return c"
   ]
  },
  {
   "cell_type": "code",
   "execution_count": 18,
   "id": "5f0929be",
   "metadata": {},
   "outputs": [
    {
     "data": {
      "text/plain": [
       "2"
      ]
     },
     "execution_count": 18,
     "metadata": {},
     "output_type": "execute_result"
    }
   ],
   "source": [
    "OneDecremented(\"5655984\")"
   ]
  },
  {
   "cell_type": "markdown",
   "id": "58ce272f",
   "metadata": {},
   "source": [
    "### Q-8: Longest Word:\n",
    "\n",
    "Have the function LongestWord(sen) take the sen parameter being passed and return the longest word in the string. If there are two or more words that are the same length, return the first word from the string with that length. Ignore punctuation and assume sen will not be empty. Words may also contain numbers, for example \"Hello world123 567\""
   ]
  },
  {
   "cell_type": "code",
   "execution_count": 24,
   "id": "5af7dadd",
   "metadata": {},
   "outputs": [],
   "source": [
    "def LongestWord(sen):\n",
    "    sen=sen.split(' ')\n",
    "    l=[]\n",
    "    for i in sen:\n",
    "        l.append(len(i))\n",
    "    for i in range(len(sen)):\n",
    "        if len(sen[i])==max(l):\n",
    "            return sen[i]\n",
    "            break"
   ]
  },
  {
   "cell_type": "code",
   "execution_count": 25,
   "id": "7eacd8bd",
   "metadata": {},
   "outputs": [
    {
     "data": {
      "text/plain": [
       "'world123'"
      ]
     },
     "execution_count": 25,
     "metadata": {},
     "output_type": "execute_result"
    }
   ],
   "source": [
    "LongestWord(\"Hello world123 567\")"
   ]
  },
  {
   "cell_type": "code",
   "execution_count": 26,
   "id": "e15eb4cb",
   "metadata": {},
   "outputs": [
    {
     "data": {
      "text/plain": [
       "'123456789'"
      ]
     },
     "execution_count": 26,
     "metadata": {},
     "output_type": "execute_result"
    }
   ],
   "source": [
    "LongestWord(\"123456789 98765432\")"
   ]
  },
  {
   "cell_type": "markdown",
   "id": "a6402c40",
   "metadata": {},
   "source": [
    "### Q-9: Superincreasing:\n",
    "\n",
    "Have the function Superincreasing(arr) take the array of numbers stored in arr and determine if the array forms a superincreasing sequence where each element in the array is greater than the sum of all previous elements. The array will only consist of positive integers. For example: if arr is [1, 3, 6, 13, 54] then your program should return the string \"true\" because it forms a superincreasing sequence. If a superincreasing sequence isn't formed, then your program should return the string \"false\""
   ]
  },
  {
   "cell_type": "code",
   "execution_count": 27,
   "id": "b8b4b075",
   "metadata": {},
   "outputs": [],
   "source": [
    "def Superincreasing(arr):\n",
    "    for i in range(1,len(arr)):\n",
    "        if arr[i]>sum(arr[0:i]):\n",
    "            check='true'\n",
    "        else:\n",
    "            check='false'\n",
    "            break\n",
    "    return check\n",
    "      "
   ]
  },
  {
   "cell_type": "code",
   "execution_count": 28,
   "id": "b1d53c02",
   "metadata": {},
   "outputs": [
    {
     "data": {
      "text/plain": [
       "'true'"
      ]
     },
     "execution_count": 28,
     "metadata": {},
     "output_type": "execute_result"
    }
   ],
   "source": [
    "Superincreasing([1, 3, 6, 13, 54])"
   ]
  },
  {
   "cell_type": "code",
   "execution_count": 29,
   "id": "b2daecd8",
   "metadata": {},
   "outputs": [
    {
     "data": {
      "text/plain": [
       "'false'"
      ]
     },
     "execution_count": 29,
     "metadata": {},
     "output_type": "execute_result"
    }
   ],
   "source": [
    "Superincreasing([1,2,3,4])"
   ]
  },
  {
   "cell_type": "code",
   "execution_count": 30,
   "id": "8b469a25",
   "metadata": {},
   "outputs": [
    {
     "data": {
      "text/plain": [
       "'true'"
      ]
     },
     "execution_count": 30,
     "metadata": {},
     "output_type": "execute_result"
    }
   ],
   "source": [
    "Superincreasing([1,2,5,10])"
   ]
  },
  {
   "cell_type": "markdown",
   "id": "3c409c5a",
   "metadata": {},
   "source": [
    "### Q-10: Off Line Minimum:\n",
    "\n",
    "Have the function OffLineMinimum(strArr) take the strArr parameter being passed which will be an array of integers ranging from 1...n and the letter \"E\" and return the correct subset based on the following rules. The input will be in the following format: [\"I\",\"I\",\"E\",\"I\",...,\"E\",...,\"I\"] where the I's stand for integers and the E means take out the smallest integer currently in the whole set. When finished, your program should return that new set with integers separated by commas. For example: if strArr is [\"5\",\"4\",\"6\",\"E\",\"1\",\"7\",\"E\",\"E\",\"3\",\"2\"] then your program should return 4,1,5."
   ]
  },
  {
   "cell_type": "code",
   "execution_count": 17,
   "id": "a416dc80",
   "metadata": {},
   "outputs": [],
   "source": [
    "def OffLineMinimum(strArr):\n",
    "    opt=[]\n",
    "    while True:\n",
    "        if 'E' in strArr:\n",
    "            for i in range(len(strArr)):\n",
    "                if strArr[i]=='E':\n",
    "                    num=[]\n",
    "                    for k in strArr[0:i]:\n",
    "                        num.append(int(k))\n",
    "\n",
    "                    opt.append(min(num))\n",
    "                    strArr.pop(i)\n",
    "                    for j in range(len(strArr)):\n",
    "                               if strArr[j]==str(min(num)):\n",
    "                                strArr.pop(j)\n",
    "                                break\n",
    "                    break\n",
    "\n",
    "        else:\n",
    "            break\n",
    "    \n",
    "    return opt\n",
    "        "
   ]
  },
  {
   "cell_type": "code",
   "execution_count": 18,
   "id": "fa1704b2",
   "metadata": {},
   "outputs": [
    {
     "data": {
      "text/plain": [
       "[4, 1, 5]"
      ]
     },
     "execution_count": 18,
     "metadata": {},
     "output_type": "execute_result"
    }
   ],
   "source": [
    "OffLineMinimum([\"5\",\"4\",\"6\",\"E\",\"1\",\"7\",\"E\",\"E\",\"3\",\"2\"])"
   ]
  },
  {
   "cell_type": "code",
   "execution_count": 19,
   "id": "90174ffe",
   "metadata": {},
   "outputs": [
    {
     "data": {
      "text/plain": [
       "[1, 2]"
      ]
     },
     "execution_count": 19,
     "metadata": {},
     "output_type": "execute_result"
    }
   ],
   "source": [
    "OffLineMinimum(['1','2','E','E','3'])"
   ]
  },
  {
   "cell_type": "code",
   "execution_count": 20,
   "id": "3e2acd07",
   "metadata": {},
   "outputs": [
    {
     "data": {
      "text/plain": [
       "[4, 1, 2, 3]"
      ]
     },
     "execution_count": 20,
     "metadata": {},
     "output_type": "execute_result"
    }
   ],
   "source": [
    "OffLineMinimum(['4','E','1','E','2','E','3','E'])"
   ]
  }
 ],
 "metadata": {
  "kernelspec": {
   "display_name": "Python 3 (ipykernel)",
   "language": "python",
   "name": "python3"
  },
  "language_info": {
   "codemirror_mode": {
    "name": "ipython",
    "version": 3
   },
   "file_extension": ".py",
   "mimetype": "text/x-python",
   "name": "python",
   "nbconvert_exporter": "python",
   "pygments_lexer": "ipython3",
   "version": "3.9.13"
  }
 },
 "nbformat": 4,
 "nbformat_minor": 5
}
