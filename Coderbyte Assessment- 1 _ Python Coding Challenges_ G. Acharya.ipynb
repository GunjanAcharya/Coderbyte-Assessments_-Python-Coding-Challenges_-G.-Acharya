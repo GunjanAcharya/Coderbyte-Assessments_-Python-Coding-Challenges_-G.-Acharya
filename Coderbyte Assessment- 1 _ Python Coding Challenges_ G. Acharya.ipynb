{
 "cells": [
  {
   "cell_type": "markdown",
   "id": "93b756bc",
   "metadata": {},
   "source": [
    "### Q-1: Array Addition I:\n",
    "\n",
    "Have the function ArrayAdditionI(arr) take the array of numbers stored in arr and return the string true if any combination of numbers in the array (excluding the largest number) can be added up to equal the largest number in the array, otherwise return the string false. For example: if arr contains [4, 6, 23, 10, 1, 3] the output should return true because 4 + 6 + 10 + 3 = 23. The array will not be empty, will not contain all the same elements, and may contain negative numbers."
   ]
  },
  {
   "cell_type": "code",
   "execution_count": 19,
   "id": "1d2c1771",
   "metadata": {},
   "outputs": [],
   "source": [
    "def ArrayAdditionI(arr):\n",
    "    import itertools\n",
    "    maxN = max(arr)\n",
    "    for i in range(2, len(arr)):\n",
    "        for item in itertools.combinations(arr,i):\n",
    "            if sum(item)==maxN:\n",
    "                return \"true\"\n",
    "    return \"false\"\n"
   ]
  },
  {
   "cell_type": "markdown",
   "id": "9e852326",
   "metadata": {},
   "source": [
    "* 1. For input [54,49,1,0,7,4] the output was incorrect. The correct output is true."
   ]
  },
  {
   "cell_type": "code",
   "execution_count": 27,
   "id": "d19a375f",
   "metadata": {},
   "outputs": [
    {
     "data": {
      "text/plain": [
       "array([54, 49,  1,  0,  7,  4])"
      ]
     },
     "execution_count": 27,
     "metadata": {},
     "output_type": "execute_result"
    }
   ],
   "source": [
    "arr5"
   ]
  },
  {
   "cell_type": "code",
   "execution_count": 28,
   "id": "befb106c",
   "metadata": {},
   "outputs": [
    {
     "data": {
      "text/plain": [
       "'true'"
      ]
     },
     "execution_count": 28,
     "metadata": {},
     "output_type": "execute_result"
    }
   ],
   "source": [
    "ArrayAdditionI(arr5)"
   ]
  },
  {
   "cell_type": "markdown",
   "id": "b33eb0c5",
   "metadata": {},
   "source": [
    "*  Go through the documentation of itertools if not familiar with!"
   ]
  },
  {
   "cell_type": "markdown",
   "id": "06a836db",
   "metadata": {},
   "source": [
    "### Q-2: Letter Count I\n",
    "Have the function LetterCountI(str) take the str parameter being passed and return the first word with the greatest number of repeated letters. For example: \"Today, is the greatest day ever!\" should return greatest because it has 2 e's (and 2 t's) and it comes before ever which also has 2 e's. If there are no words with repeating letters return -1. Words will be separated by spaces."
   ]
  },
  {
   "cell_type": "code",
   "execution_count": 50,
   "id": "953d6d11",
   "metadata": {},
   "outputs": [],
   "source": [
    "def LetterCountI(str):\n",
    "    import string\n",
    "    c=0\n",
    "    t=''\n",
    "    lc=[]\n",
    "      \n",
    "    for i in str:\n",
    "        if i in string.punctuation:\n",
    "            str=str.replace(i,'')\n",
    "        else:\n",
    "            continue\n",
    "    \n",
    "    str=str.split(' ')\n",
    "    \n",
    "    for i in str:\n",
    "        for j in i:\n",
    "            if i.count(j)>1 and j not in t:  \n",
    "                c+=1\n",
    "                t+=j\n",
    "        lc.append(c)\n",
    "        c=0\n",
    "        t=''\n",
    "\n",
    "    if max(lc)==0:\n",
    "        return -1\n",
    "    else:\n",
    "        for i in range(len(lc)):\n",
    "            if lc[i]==max(lc):\n",
    "                    return str[i]\n",
    "  "
   ]
  },
  {
   "cell_type": "code",
   "execution_count": 51,
   "id": "452a5ee9",
   "metadata": {},
   "outputs": [
    {
     "data": {
      "text/plain": [
       "'greatest'"
      ]
     },
     "execution_count": 51,
     "metadata": {},
     "output_type": "execute_result"
    }
   ],
   "source": [
    "LetterCountI(\"Today, is the greatest day ever!\")"
   ]
  },
  {
   "cell_type": "markdown",
   "id": "ab09f1aa",
   "metadata": {},
   "source": [
    "### Q-3: Prime Mover\n",
    "Have the function PrimeMover(num) return the numth prime number. The range will be from 1 to 10^4. For example: if num is 16 the output should be 53 as 53 is the 16th prime number.\n"
   ]
  },
  {
   "cell_type": "code",
   "execution_count": 69,
   "id": "8a998160",
   "metadata": {},
   "outputs": [],
   "source": [
    "def PrimeMover(num):\n",
    "    def is_prime(num):\n",
    "        fac=[]\n",
    "        for i in range(1,num+1):\n",
    "            if num%i==0:\n",
    "                fac.append(i)\n",
    "\n",
    "\n",
    "        if len(fac)==2:\n",
    "            return True\n",
    "        else:\n",
    "            return False\n",
    "    \n",
    "    c=2\n",
    "    lst=[]\n",
    "    while True:\n",
    "        if is_prime(c)==True:\n",
    "            lst.append(c)\n",
    "        c+=1\n",
    "        if len(lst)==num:\n",
    "            return lst[-1]\n",
    "            break\n",
    "      "
   ]
  },
  {
   "cell_type": "code",
   "execution_count": 75,
   "id": "bf3ae654",
   "metadata": {},
   "outputs": [
    {
     "name": "stdout",
     "output_type": "stream",
     "text": [
      "2\n",
      "3\n",
      "5\n",
      "7\n",
      "11\n",
      "13\n",
      "17\n",
      "19\n",
      "23\n",
      "29\n",
      "31\n",
      "37\n",
      "41\n",
      "43\n",
      "47\n",
      "53\n"
     ]
    }
   ],
   "source": [
    "for i in range(1,17):\n",
    "    print(PrimeMover(i))"
   ]
  },
  {
   "cell_type": "markdown",
   "id": "f2b9c3fa",
   "metadata": {},
   "source": [
    "1. For input 400 the output was incorrect. The correct output is 2741\n",
    "\n",
    "2. For input 565 the output was incorrect. The correct output is 4099\n",
    "\n",
    "3. For input 312 the output was incorrect. The correct output is 2069\n",
    "\n",
    "4. For input 567 the output was incorrect. The correct output is 4127"
   ]
  },
  {
   "cell_type": "code",
   "execution_count": 76,
   "id": "6151de64",
   "metadata": {},
   "outputs": [
    {
     "name": "stdout",
     "output_type": "stream",
     "text": [
      "2741\n",
      "4099\n",
      "2069\n",
      "4127\n"
     ]
    }
   ],
   "source": [
    "for i in [400,565,312,567]:\n",
    "    print(PrimeMover(i))"
   ]
  },
  {
   "cell_type": "markdown",
   "id": "bdf779d9",
   "metadata": {},
   "source": [
    "### Q-4: Consecutive:\n",
    "Have the function Consecutive(arr) take the array of integers stored in arr and return the minimum number of integers needed to make the contents of arr consecutive from the lowest number to the highest number. For example: If arr contains [4, 8, 6] then the output should be 2 because two numbers need to be added to the array (5 and 7) to make it a consecutive array of numbers from 4 to 8. Negative numbers may be entered as parameters and no array will have less than 2 elements."
   ]
  },
  {
   "cell_type": "code",
   "execution_count": 53,
   "id": "afdafbcd",
   "metadata": {},
   "outputs": [],
   "source": [
    "def Consecutive(arr):\n",
    "\n",
    "    arr.sort()\n",
    "    maximum=max(arr)\n",
    "    minimum=min(arr)\n",
    "    null_nums=[]\n",
    "    for num in range(minimum,maximum):\n",
    "        if num not in arr:\n",
    "            null_nums.append(num)\n",
    "\n",
    "    return len(null_nums)\n"
   ]
  },
  {
   "cell_type": "code",
   "execution_count": 54,
   "id": "b061b7bb",
   "metadata": {},
   "outputs": [
    {
     "data": {
      "text/plain": [
       "2"
      ]
     },
     "execution_count": 54,
     "metadata": {},
     "output_type": "execute_result"
    }
   ],
   "source": [
    "Consecutive([4, 8, 6])"
   ]
  },
  {
   "cell_type": "markdown",
   "id": "4f944422",
   "metadata": {},
   "source": [
    "### Q-5: Simple Password:\n",
    "Have the function SimplePassword(str) take the str parameter being passed and determine if it passes as a valid password that follows the list of constraints:\n",
    "\n",
    "1. It must have a capital letter.\n",
    "2. It must contain at least one number.\n",
    "3. It must contain a punctuation mark or mathematical symbol.\n",
    "4. It cannot have the word \"password\" in the string.\n",
    "5. It must be longer than 7 characters and shorter than 31 characters.\n",
    "\n",
    "If all the above constraints are met within the string, the your program should return the string true, otherwise your program should return the string false. For example: if str is \"apple!M7\" then your program should return \"true\"."
   ]
  },
  {
   "cell_type": "code",
   "execution_count": 90,
   "id": "ef3c5b43",
   "metadata": {},
   "outputs": [],
   "source": [
    "def SimplePassword(strParam):\n",
    "    \n",
    "    import string\n",
    "    \n",
    "    for i in strParam:\n",
    "        if i in 'ABCDEFGHIJKLMNOPQRSTUVWXYZ':\n",
    "            check1=True\n",
    "            break\n",
    "        else:\n",
    "            check1=False\n",
    "            \n",
    "    for i in strParam:\n",
    "        if i.isdigit()==True:\n",
    "            check2=True\n",
    "            break\n",
    "        else:\n",
    "            check2=False\n",
    "            \n",
    "    for i in strParam:\n",
    "        if i in string.punctuation:\n",
    "            check3=True\n",
    "            break\n",
    "        else:\n",
    "            check3=False\n",
    "            \n",
    "    if \"password\" not in strParam:\n",
    "        check4=True\n",
    "    else:\n",
    "        check4=False\n",
    "        \n",
    "    if len(strParam)>7 and len(strParam)<31:\n",
    "        check5=True\n",
    "    else:\n",
    "        check5=False\n",
    "        \n",
    "    if False in [check1,check2,check3,check4,check5]:\n",
    "        return 'false'\n",
    "    else:\n",
    "        return 'true'\n",
    "      "
   ]
  },
  {
   "cell_type": "markdown",
   "id": "808da060",
   "metadata": {},
   "source": [
    "1. For input \"apple!M7\" the output was incorrect. The correct output is true\n",
    "\n",
    "2. For input \"123456A+\" the output was incorrect. The correct output is true\n",
    "\n",
    "3. For input \"dogHOUSE4!MMM\" the output was incorrect. The correct output is true\n",
    "\n",
    "4. For input \"mmmAAAMMM56_mmmmmmmmmmmmmmmmmmmmmmmmmmmmmmmmmmmmmm\" the output was incorrect. The correct output is false"
   ]
  },
  {
   "cell_type": "code",
   "execution_count": 91,
   "id": "0513278f",
   "metadata": {},
   "outputs": [
    {
     "name": "stdout",
     "output_type": "stream",
     "text": [
      "true\n",
      "true\n",
      "true\n",
      "false\n"
     ]
    }
   ],
   "source": [
    "for i in [\"apple!M7\",\"123456A+\",\"dogHOUSE4!MMM\",\"mmmAAAMMM56_mmmmmmmmmmmmmmmmmmmmmmmmmmmmmmmmmmmmmm\"]:\n",
    "    print(SimplePassword(i))"
   ]
  },
  {
   "cell_type": "markdown",
   "id": "d1071724",
   "metadata": {},
   "source": [
    "### Q-6: Serial Number:\n",
    "Have the function SerialNumber(str) take the str parameter being passed and determine if it is a valid serial number with the following constraints:\n",
    "\n",
    "1. It needs to contain three sets each with three digits (1 through 9) separated by a period.\n",
    "2. The first set of digits must add up to an even number.\n",
    "3. The second set of digits must add up to an odd number.\n",
    "4. The last digit in each set must be larger than the two previous digits in the same set.\n",
    "\n",
    "If all the above constraints are met within the string, the your program should return the string true, otherwise your program should return the string false. For example: if str is \"224.315.218\" then your program should return \"true\"."
   ]
  },
  {
   "cell_type": "code",
   "execution_count": 6,
   "id": "4fc2109d",
   "metadata": {},
   "outputs": [],
   "source": [
    "def SerialNumber(strParam):\n",
    "\n",
    "    strParam=strParam.split('.')\n",
    "    \n",
    "    if len(strParam)!=3:\n",
    "        return 'false'\n",
    "    else:\n",
    "        for i in strParam:\n",
    "            if len(i)!=3:\n",
    "                return 'false'\n",
    "            else:\n",
    "                check1=True\n",
    "    \n",
    "    even=[]\n",
    "    for i in strParam[0]:\n",
    "        even.append(int(i))\n",
    "    if sum(even)%2==0:\n",
    "        check2=True\n",
    "    else:\n",
    "        check2=False\n",
    "    \n",
    "    odd=[]\n",
    "    for i in strParam[1]:\n",
    "        odd.append(int(i))\n",
    "    if sum(odd)%2!=0:\n",
    "        check3=True\n",
    "    else:\n",
    "        check3=False\n",
    "        \n",
    "    for i in strParam:\n",
    "        if int(i[2])>int(i[1]) and int(i[2])>int(i[0]):\n",
    "            check4=True\n",
    "        else:\n",
    "            check4=False\n",
    "            break\n",
    "            \n",
    "    if False in [check1,check2,check3,check4]:\n",
    "        return 'false'\n",
    "    else:\n",
    "        return 'true'\n",
    "        "
   ]
  },
  {
   "cell_type": "markdown",
   "id": "fb17e984",
   "metadata": {},
   "source": [
    "1. For input \"123.456.789\" the output was incorrect. The correct output is true\n",
    "\n",
    "2. For input \"999.111.222\" the output was incorrect. The correct output is false\n",
    "\n",
    "3. For input \"567.126.678\" the output was incorrect. The correct output is true\n",
    "\n",
    "4. For input \"569.126.889\" the output was incorrect. The correct output is true"
   ]
  },
  {
   "cell_type": "code",
   "execution_count": 7,
   "id": "7419e99f",
   "metadata": {},
   "outputs": [
    {
     "name": "stdout",
     "output_type": "stream",
     "text": [
      "true\n",
      "false\n",
      "true\n",
      "true\n"
     ]
    }
   ],
   "source": [
    "for i in [\"123.456.789\",\"999.111.222\",\"567.126.678\",\"569.126.889\"]:\n",
    "    print(SerialNumber(i))"
   ]
  },
  {
   "cell_type": "markdown",
   "id": "831710cc",
   "metadata": {},
   "source": [
    "### Q-7: Wave Sorting:\n",
    "Have the function WaveSorting(arr) take the array of positive integers stored in arr and return the string true if the numbers can be arranged in a wave pattern: a1 > a2 < a3 > a4 < a5 > ..., otherwise return the string false. For example, if arr is: [0, 1, 2, 4, 1, 4], then a possible wave ordering of the numbers is: [2, 0, 4, 1, 4, 1]. So for this input your program should return the string true. The input array will always contain at least 2 elements. More examples are given below as sample test cases."
   ]
  },
  {
   "cell_type": "code",
   "execution_count": 10,
   "id": "0901f8a3",
   "metadata": {},
   "outputs": [],
   "source": [
    "def WaveSorting(arr):\n",
    "    def even(num):\n",
    "        if num%2==0:\n",
    "            return True\n",
    "        else:\n",
    "            return False\n",
    "        \n",
    "    for i in range(len(arr)-1):\n",
    "        if even(i)==True and arr[i]>arr[i+1]:\n",
    "            check1=True\n",
    "            \n",
    "        elif even(i)==False and arr[i]<arr[i+1]:\n",
    "            check1=True\n",
    "            \n",
    "        else:\n",
    "            check1=False\n",
    "            break\n",
    "            \n",
    "    if check1==True:\n",
    "        return 'true'\n",
    "    else:\n",
    "        return 'false'\n",
    "            "
   ]
  },
  {
   "cell_type": "code",
   "execution_count": 11,
   "id": "047758c2",
   "metadata": {},
   "outputs": [
    {
     "name": "stdout",
     "output_type": "stream",
     "text": [
      "false\n"
     ]
    }
   ],
   "source": [
    "print(WaveSorting([0, 1, 2, 4, 1, 4]))"
   ]
  },
  {
   "cell_type": "code",
   "execution_count": 12,
   "id": "4c929501",
   "metadata": {},
   "outputs": [
    {
     "name": "stdout",
     "output_type": "stream",
     "text": [
      "true\n"
     ]
    }
   ],
   "source": [
    "print(WaveSorting([2, 0, 4, 1, 4, 1]))"
   ]
  },
  {
   "cell_type": "markdown",
   "id": "e020516f",
   "metadata": {},
   "source": [
    "### Q-8: Largest Pair:\n",
    "Have the function LargestPair(num) take the num parameter being passed and determine the largest double digit number within the whole number. For example: if num is 4759472 then your program should return 94 because that is the largest double digit number. The input will always contain at least two positive digits."
   ]
  },
  {
   "cell_type": "code",
   "execution_count": 24,
   "id": "362c9a5c",
   "metadata": {},
   "outputs": [],
   "source": [
    "def LargestPair(num):\n",
    "    \n",
    "    num=str(num)\n",
    "    lst=[]\n",
    "    for i in range(len(num)-1):\n",
    "        t=''\n",
    "        t=a[i]+a[i+1]\n",
    "        lst.append(int(t))\n",
    "        \n",
    "    return max(lst)\n",
    "    "
   ]
  },
  {
   "cell_type": "code",
   "execution_count": 25,
   "id": "55bcae97",
   "metadata": {},
   "outputs": [
    {
     "name": "stdout",
     "output_type": "stream",
     "text": [
      "94\n"
     ]
    }
   ],
   "source": [
    "print(LargestPair(4759472))"
   ]
  },
  {
   "cell_type": "markdown",
   "id": "d5f25c04",
   "metadata": {},
   "source": [
    "### Q-9: Closest Enemy:\n",
    "Have the function ClosestEnemy(arr) take the array of numbers stored in arr and from the position in the array where a 1 is, return the number of spaces either left or right you must move to reach an enemy which is represented by a 2. For example: if arr is [0, 0, 1, 0, 0, 2, 0, 2] then your program should return 3 because the closest enemy (2) is 3 spaces away from the 1. The array will contain any number of 0's and 2's, but only a single 1. It may not contain any 2's at all as well, where in that case your program should return a 0."
   ]
  },
  {
   "cell_type": "code",
   "execution_count": 39,
   "id": "b4f3129d",
   "metadata": {},
   "outputs": [],
   "source": [
    "def ClosestEnemy(arr):\n",
    "    if 2 not in arr:\n",
    "        return 0\n",
    "    else:\n",
    "        arr_l=arr[0:arr.index(1)+1]\n",
    "        arr_r=arr[arr.index(1)+1:len(arr)]\n",
    "        l=0\n",
    "        r=0\n",
    "        \n",
    "        if 2 not in arr_l:\n",
    "            pass\n",
    "        else:\n",
    "            for i in range(len(arr_l)-1,-1,-1):\n",
    "                if arr_l[i]!=2:\n",
    "                    l+=1\n",
    "                else:\n",
    "                    l+=1\n",
    "                    break\n",
    "                    \n",
    "        if 2 not in arr_r:\n",
    "            pass\n",
    "        else:\n",
    "            for i in range(len(arr_r)):\n",
    "                if arr_r[i]!=2:\n",
    "                    r+=1\n",
    "                else:\n",
    "                    r+=1\n",
    "                    break\n",
    "                    \n",
    "    return max([l,r])\n",
    "                "
   ]
  },
  {
   "cell_type": "code",
   "execution_count": 40,
   "id": "e4cad71d",
   "metadata": {},
   "outputs": [
    {
     "name": "stdout",
     "output_type": "stream",
     "text": [
      "3\n"
     ]
    }
   ],
   "source": [
    "print(ClosestEnemy([0, 0, 1, 0, 0, 2, 0, 2]))"
   ]
  },
  {
   "cell_type": "markdown",
   "id": "26b64002",
   "metadata": {},
   "source": [
    "### Q-10: Power Set Count:\n",
    "Have the function PowerSetCount(arr) take the array of integers stored in arr, and return the length of the power set (the number of all possible sets) that can be generated. For example: if arr is [1, 2, 3], then the following sets form the power set:\n",
    "\n",
    "* []\n",
    "* [1]\n",
    "* [2]\n",
    "* [3]\n",
    "* [1, 2]\n",
    "* [1, 3]\n",
    "* [2, 3]\n",
    "* [1, 2, 3]\n",
    "\n",
    "You can see above all possible sets, along with the empty set, are generated. Therefore, for this input, your program should return 8."
   ]
  },
  {
   "cell_type": "code",
   "execution_count": 48,
   "id": "7b73a25d",
   "metadata": {},
   "outputs": [],
   "source": [
    "def PowerSetCount(arr):\n",
    "    import itertools\n",
    "    c=0\n",
    "\n",
    "    for i in(range(1,len(arr)+1)):\n",
    "        for j in itertools.combinations(arr,i):\n",
    "            c+=1\n",
    "\n",
    "    return c+1\n"
   ]
  },
  {
   "cell_type": "code",
   "execution_count": 49,
   "id": "2c2640a5",
   "metadata": {},
   "outputs": [
    {
     "name": "stdout",
     "output_type": "stream",
     "text": [
      "8\n"
     ]
    }
   ],
   "source": [
    "print(PowerSetCount([1, 2, 3]))"
   ]
  }
 ],
 "metadata": {
  "kernelspec": {
   "display_name": "Python 3 (ipykernel)",
   "language": "python",
   "name": "python3"
  },
  "language_info": {
   "codemirror_mode": {
    "name": "ipython",
    "version": 3
   },
   "file_extension": ".py",
   "mimetype": "text/x-python",
   "name": "python",
   "nbconvert_exporter": "python",
   "pygments_lexer": "ipython3",
   "version": "3.9.13"
  }
 },
 "nbformat": 4,
 "nbformat_minor": 5
}
