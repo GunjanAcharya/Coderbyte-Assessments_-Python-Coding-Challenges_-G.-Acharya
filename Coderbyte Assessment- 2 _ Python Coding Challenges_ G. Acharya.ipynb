{
 "cells": [
  {
   "cell_type": "markdown",
   "id": "ed0d0808",
   "metadata": {},
   "source": [
    "### Q-1: Alphabet Soup:\n",
    "\n",
    "Have the function AlphabetSoup(str) take the str string parameter being passed and return the string with the letters in alphabetical order (ie. hello becomes ehllo). Assume numbers and punctuation symbols will not be included in the string."
   ]
  },
  {
   "cell_type": "code",
   "execution_count": 1,
   "id": "c7319dbc",
   "metadata": {},
   "outputs": [],
   "source": [
    "def AlphabetSoup(strParam):\n",
    "\n",
    "    lst=[]\n",
    "    for i in strParam:\n",
    "        c=ord(i)\n",
    "        lst.append(c)\n",
    "    lst.sort()\n",
    "    strParam=''\n",
    "    for i in lst:\n",
    "        strParam+=chr(i)\n",
    "    return strParam\n"
   ]
  },
  {
   "cell_type": "code",
   "execution_count": 2,
   "id": "fca61a85",
   "metadata": {},
   "outputs": [
    {
     "name": "stdout",
     "output_type": "stream",
     "text": [
      "ehllo\n"
     ]
    }
   ],
   "source": [
    "print(AlphabetSoup('hello'))"
   ]
  },
  {
   "cell_type": "code",
   "execution_count": 3,
   "id": "8bb4b1d0",
   "metadata": {},
   "outputs": [
    {
     "name": "stdout",
     "output_type": "stream",
     "text": [
      "bcdeeorty\n"
     ]
    }
   ],
   "source": [
    "print(AlphabetSoup('coderbyte'))"
   ]
  },
  {
   "cell_type": "markdown",
   "id": "01b60bf2",
   "metadata": {},
   "source": [
    "### Q-2: Swap Case:\n",
    "\n",
    "Have the function SwapCase(str) take the str parameter and swap the case of each character. For example: if str is \"Hello World\" the output should be hELLO wORLD. Let numbers and symbols stay the way they are."
   ]
  },
  {
   "cell_type": "code",
   "execution_count": 4,
   "id": "6c583370",
   "metadata": {},
   "outputs": [],
   "source": [
    "def SwapCase(strParam):\n",
    "  \n",
    "    t=''\n",
    "    for i in strParam:\n",
    "        if i in 'abcdefghijklmnopqrstuvwxyzABCDEFGHIJKLMNOPQRSTUVWXYZ':\n",
    "            t+=i.swapcase()\n",
    "        else:\n",
    "            t+=i\n",
    "    strParam=t\n",
    "    return strParam\n"
   ]
  },
  {
   "cell_type": "code",
   "execution_count": 5,
   "id": "e92b5872",
   "metadata": {},
   "outputs": [
    {
     "name": "stdout",
     "output_type": "stream",
     "text": [
      "hELLO wORLD\n"
     ]
    }
   ],
   "source": [
    "print(SwapCase(\"Hello World\"))"
   ]
  },
  {
   "cell_type": "code",
   "execution_count": 6,
   "id": "b5438c20",
   "metadata": {},
   "outputs": [
    {
     "name": "stdout",
     "output_type": "stream",
     "text": [
      "CODERBYTE\n"
     ]
    }
   ],
   "source": [
    "print(SwapCase(\"coderbyte\"))"
   ]
  },
  {
   "cell_type": "markdown",
   "id": "84b60dd6",
   "metadata": {},
   "source": [
    "### Q-3: First Factorial:\n",
    "\n",
    "Have the function FirstFactorial(num) take the num parameter being passed and return the factorial of it. For example: if num = 4, then your program should return (4 * 3 * 2 * 1) = 24. For the test cases, the range will be between 1 and 18 and the input will always be an integer."
   ]
  },
  {
   "cell_type": "code",
   "execution_count": 7,
   "id": "975f1464",
   "metadata": {},
   "outputs": [],
   "source": [
    "def FirstFactorial(num):\n",
    "    t=1\n",
    "    for i in range(1,num+1):\n",
    "        t=t*i\n",
    "    num=t\n",
    "    return num"
   ]
  },
  {
   "cell_type": "code",
   "execution_count": 8,
   "id": "db3218ee",
   "metadata": {},
   "outputs": [
    {
     "name": "stdout",
     "output_type": "stream",
     "text": [
      "24\n"
     ]
    }
   ],
   "source": [
    "print(FirstFactorial(4))"
   ]
  },
  {
   "cell_type": "code",
   "execution_count": 9,
   "id": "b0c1374d",
   "metadata": {},
   "outputs": [
    {
     "name": "stdout",
     "output_type": "stream",
     "text": [
      "3628800\n"
     ]
    }
   ],
   "source": [
    "print(FirstFactorial(10))"
   ]
  },
  {
   "cell_type": "markdown",
   "id": "b3592017",
   "metadata": {},
   "source": [
    "### Q-4 Sort List:\n",
    "\n",
    "Write a program to sort the following list in ascending order using loop.\n",
    "\n",
    "\n",
    "\n",
    "[53, 98, 25, 61, 12, 59, 22, 27, 29, 58, 64]"
   ]
  },
  {
   "cell_type": "code",
   "execution_count": 10,
   "id": "bc74211a",
   "metadata": {},
   "outputs": [],
   "source": [
    "def sort_list(param):\n",
    "    for i in range(0, len(param)):\n",
    "        for j in range(i+1, len(param)):\n",
    "            if param[i] >= param[j]:\n",
    "                param[i], param[j] = param[j],param[i]\n",
    "\n",
    "    return param"
   ]
  },
  {
   "cell_type": "code",
   "execution_count": 11,
   "id": "7e883488",
   "metadata": {},
   "outputs": [
    {
     "data": {
      "text/plain": [
       "[12, 22, 25, 27, 29, 53, 58, 59, 61, 64, 98]"
      ]
     },
     "execution_count": 11,
     "metadata": {},
     "output_type": "execute_result"
    }
   ],
   "source": [
    "sort_list([53, 98, 25, 61, 12, 59, 22, 27, 29, 58, 64])"
   ]
  },
  {
   "cell_type": "markdown",
   "id": "3d6baeef",
   "metadata": {},
   "source": [
    "### Q-5: Arith Geo:\n",
    "\n",
    "Have the function ArithGeo(arr) take the array of numbers stored in arr and return the string \"Arithmetic\" if the sequence follows an arithmetic pattern or return \"Geometric\" if it follows a geometric pattern. If the sequence doesn't follow either pattern return -1. An arithmetic sequence is one where the difference between each of the numbers is consistent, where as in a geometric sequence, each term after the first is multiplied by some constant or common ratio. Arithmetic example: [2, 4, 6, 8] and Geometric example: [2, 6, 18, 54]. Negative numbers may be entered as parameters, 0 will not be entered, and no array will contain all the same elements."
   ]
  },
  {
   "cell_type": "code",
   "execution_count": 12,
   "id": "508e21d6",
   "metadata": {},
   "outputs": [],
   "source": [
    "def ArithGeo(arr):\n",
    "    \n",
    "    def arith(arr):\n",
    "        for i in range(len(arr)-2):\n",
    "            if arr[i]-arr[i+1]==arr[i+1]-arr[i+2]:\n",
    "                check1=True\n",
    "            else:\n",
    "                check1=False\n",
    "                break\n",
    "        return check1\n",
    "                \n",
    "    def geo(arr):\n",
    "        for i in range(len(arr)-2):\n",
    "            if arr[i+1]/arr[i]==arr[i+2]/arr[i+1]:\n",
    "                check2=True\n",
    "            else:\n",
    "                check2=False\n",
    "                break\n",
    "        return check2\n",
    "                \n",
    "    if arith(arr)==True:\n",
    "        return \"Arithmetic\"\n",
    "    elif geo(arr)==True:\n",
    "        return \"Geometric\"\n",
    "    else:\n",
    "        return -1\n",
    "            \n",
    "        "
   ]
  },
  {
   "cell_type": "code",
   "execution_count": 13,
   "id": "87fe6db2",
   "metadata": {},
   "outputs": [
    {
     "data": {
      "text/plain": [
       "'Arithmetic'"
      ]
     },
     "execution_count": 13,
     "metadata": {},
     "output_type": "execute_result"
    }
   ],
   "source": [
    "ArithGeo([2, 4, 6, 8])"
   ]
  },
  {
   "cell_type": "code",
   "execution_count": 14,
   "id": "2a6a6360",
   "metadata": {},
   "outputs": [
    {
     "data": {
      "text/plain": [
       "'Geometric'"
      ]
     },
     "execution_count": 14,
     "metadata": {},
     "output_type": "execute_result"
    }
   ],
   "source": [
    "ArithGeo([2, 6, 18, 54])"
   ]
  },
  {
   "cell_type": "code",
   "execution_count": 15,
   "id": "a5865336",
   "metadata": {},
   "outputs": [
    {
     "data": {
      "text/plain": [
       "-1"
      ]
     },
     "execution_count": 15,
     "metadata": {},
     "output_type": "execute_result"
    }
   ],
   "source": [
    "ArithGeo([2, 6, 27, 54])"
   ]
  },
  {
   "cell_type": "markdown",
   "id": "166defc5",
   "metadata": {},
   "source": [
    "### Q-6: Second GreatLow:\n",
    "\n",
    "Have the function SecondGreatLow(arr) take the array of numbers stored in arr and return the second lowest and second greatest numbers, respectively, separated by a space. For example: if arr contains [7, 7, 12, 98, 106] the output should be 12 98. The array will not be empty and will contain at least 2 numbers. It can get tricky if there's just two numbers!"
   ]
  },
  {
   "cell_type": "code",
   "execution_count": 7,
   "id": "31b14589",
   "metadata": {},
   "outputs": [],
   "source": [
    "def SecondGreatLow(arr):\n",
    "    \n",
    "    import numpy as np\n",
    "    if len(arr)==2:\n",
    "        return str(min(arr))+' '+str(max(arr))\n",
    "    else:\n",
    "        arr=set(arr)\n",
    "        arr=list(arr)\n",
    "        arr=np.sort(arr)\n",
    "        return str(arr[1])+' '+str(arr[-2])\n",
    "       "
   ]
  },
  {
   "cell_type": "code",
   "execution_count": 8,
   "id": "9ccea6d9",
   "metadata": {},
   "outputs": [
    {
     "data": {
      "text/plain": [
       "'12 98'"
      ]
     },
     "execution_count": 8,
     "metadata": {},
     "output_type": "execute_result"
    }
   ],
   "source": [
    "SecondGreatLow([7, 7, 12, 98, 106])"
   ]
  },
  {
   "cell_type": "markdown",
   "id": "453817c3",
   "metadata": {},
   "source": [
    "### Q-7: Third Greatest:\n",
    "\n",
    "Have the function ThirdGreatest(strArr) take the array of strings stored in strArr and return the third largest word within it. So for example: if strArr is [\"hello\", \"world\", \"before\", \"all\"] your output should be world because \"before\" is 6 letters long, and \"hello\" and \"world\" are both 5, but the output should be world because it appeared as the last 5 letter word in the array. If strArr was [\"hello\", \"world\", \"after\", \"all\"] the output should be after because the first three words are all 5 letters long, so return the last one. The array will have at least three strings and each string will only contain letters."
   ]
  },
  {
   "cell_type": "code",
   "execution_count": 39,
   "id": "e7805fa1",
   "metadata": {},
   "outputs": [],
   "source": [
    "def ThirdGreatest(strArr):\n",
    "    c=[]\n",
    "    for i in strArr:\n",
    "        c.append(len(i))\n",
    "    c.sort()\n",
    "    c=c[len(c)-3:len(c)]\n",
    "    grt=[]\n",
    "    for i in c:\n",
    "        for j in strArr:\n",
    "            if len(j)==i and j not in grt:\n",
    "                grt.append(j)\n",
    "    \n",
    "    ind=0\n",
    "    for i in range(1,len(grt)):\n",
    "        if len(grt[0])==len(grt[i]):\n",
    "            ind=i\n",
    "        else:\n",
    "            continue\n",
    "    \n",
    "    return grt[ind]\n",
    "\n",
    "    "
   ]
  },
  {
   "cell_type": "code",
   "execution_count": 40,
   "id": "b374ecd9",
   "metadata": {},
   "outputs": [
    {
     "data": {
      "text/plain": [
       "'world'"
      ]
     },
     "execution_count": 40,
     "metadata": {},
     "output_type": "execute_result"
    }
   ],
   "source": [
    "ThirdGreatest([\"hello\", \"world\", \"before\", \"all\"])"
   ]
  },
  {
   "cell_type": "code",
   "execution_count": 41,
   "id": "951cc5ec",
   "metadata": {},
   "outputs": [
    {
     "data": {
      "text/plain": [
       "'after'"
      ]
     },
     "execution_count": 41,
     "metadata": {},
     "output_type": "execute_result"
    }
   ],
   "source": [
    "ThirdGreatest([\"hello\", \"world\", \"after\", \"all\"])"
   ]
  },
  {
   "cell_type": "markdown",
   "id": "1334eaa3",
   "metadata": {},
   "source": [
    "### Q-8: Changing Sequence:\n",
    "\n",
    "Have the function ChangingSequence(arr) take the array of numbers stored in arr and return the index at which the numbers stop increasing and begin decreasing or stop decreasing and begin increasing. For example: if arr is [1, 2, 4, 6, 4, 3, 1] then your program should return 3 because 6 is the last point in the array where the numbers were increasing and the next number begins a decreasing sequence. The array will contain at least 3 numbers and it may contains only a single sequence, increasing or decreasing. If there is only a single sequence in the array, then your program should return -1. Indexing should begin with 0."
   ]
  },
  {
   "cell_type": "code",
   "execution_count": 25,
   "id": "33fde722",
   "metadata": {},
   "outputs": [],
   "source": [
    "def ChangingSequence(arr):\n",
    "    seq=[]\n",
    "    for i in range(len(arr)-1):\n",
    "        if arr[i]-arr[i+1]<0:\n",
    "            seq.append('inc')\n",
    "        elif arr[i]-arr[i+1]>0:\n",
    "            seq.append('dec')\n",
    "        else:\n",
    "            seq.append('nc')\n",
    "            \n",
    "    if seq[0]=='inc' and 'dec' in seq:\n",
    "        for i in range(len(arr)):\n",
    "            if arr[i]==max(arr):\n",
    "                return i\n",
    "\n",
    "    elif seq[0]=='dec' and 'inc' in seq:\n",
    "        for i in range(len(arr)):\n",
    "            if arr[i]==min(arr):\n",
    "                return i\n",
    "\n",
    "    else:\n",
    "        return -1\n",
    "    \n",
    "    "
   ]
  },
  {
   "cell_type": "code",
   "execution_count": 26,
   "id": "62541ae9",
   "metadata": {},
   "outputs": [
    {
     "data": {
      "text/plain": [
       "3"
      ]
     },
     "execution_count": 26,
     "metadata": {},
     "output_type": "execute_result"
    }
   ],
   "source": [
    "ChangingSequence([1, 2, 4, 6, 4, 3, 1])"
   ]
  },
  {
   "cell_type": "markdown",
   "id": "b2adbdaa",
   "metadata": {},
   "source": [
    "### Q-9: Bitwise One:\n",
    "\n",
    "Have the function BitwiseOne(strArr) take the array of strings stored in strArr, which will only contain two strings of equal length that represent binary numbers, and return a final binary string that performed the bitwise OR operation on both strings. A bitwise OR operation places a 0 in the new string where there are zeroes in both binary strings, otherwise it places a 1 in that spot. For example: if strArr is [\"1001\", \"0100\"] then your program should return the string \"1101\""
   ]
  },
  {
   "cell_type": "code",
   "execution_count": 7,
   "id": "3d282449",
   "metadata": {},
   "outputs": [],
   "source": [
    "def BitwiseOne(strArr):\n",
    "    bit=''\n",
    "    for i in range(len(strArr[0])):\n",
    "        if int(strArr[0][i])==0 and int(strArr[1][i])==0:\n",
    "            bit+=str(0)\n",
    "        else:\n",
    "            bit+=str(1)\n",
    "    return bit\n"
   ]
  },
  {
   "cell_type": "code",
   "execution_count": 8,
   "id": "9b4cd964",
   "metadata": {},
   "outputs": [
    {
     "data": {
      "text/plain": [
       "'1101'"
      ]
     },
     "execution_count": 8,
     "metadata": {},
     "output_type": "execute_result"
    }
   ],
   "source": [
    "BitwiseOne([\"1001\", \"0100\"])"
   ]
  },
  {
   "cell_type": "markdown",
   "id": "9fdb8f81",
   "metadata": {},
   "source": [
    "### Q-10: Next Palindrome:\n",
    "\n",
    "Have the function NextPalindrome(num) take the num parameter being passed and return the next largest palindromic number. The input can be any positive integer. For example: if num is 24, then your program should return 33 because that is the next largest number that is a palindrome."
   ]
  },
  {
   "cell_type": "code",
   "execution_count": 29,
   "id": "d32c23b7",
   "metadata": {},
   "outputs": [],
   "source": [
    "def NextPalindrome(num):\n",
    "    while True:\n",
    "        num=num+1\n",
    "        if str(num)[0:len(str(num))]==str(num)[-1:-len(str(num))-1:-1]:\n",
    "            break\n",
    "    return num\n",
    "                   "
   ]
  },
  {
   "cell_type": "code",
   "execution_count": 33,
   "id": "384815fb",
   "metadata": {},
   "outputs": [
    {
     "data": {
      "text/plain": [
       "33"
      ]
     },
     "execution_count": 33,
     "metadata": {},
     "output_type": "execute_result"
    }
   ],
   "source": [
    "NextPalindrome(24)"
   ]
  }
 ],
 "metadata": {
  "kernelspec": {
   "display_name": "Python 3 (ipykernel)",
   "language": "python",
   "name": "python3"
  },
  "language_info": {
   "codemirror_mode": {
    "name": "ipython",
    "version": 3
   },
   "file_extension": ".py",
   "mimetype": "text/x-python",
   "name": "python",
   "nbconvert_exporter": "python",
   "pygments_lexer": "ipython3",
   "version": "3.9.13"
  }
 },
 "nbformat": 4,
 "nbformat_minor": 5
}
